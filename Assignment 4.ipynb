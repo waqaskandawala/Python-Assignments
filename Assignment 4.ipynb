{
 "cells": [
  {
   "cell_type": "code",
   "execution_count": 1,
   "metadata": {},
   "outputs": [
    {
     "name": "stdout",
     "output_type": "stream",
     "text": [
      "{'firstname': 'Muhammad Waqas', 'lastname': 'Kandawala', 'age': '29', 'city': 'Karachi'}\n"
     ]
    }
   ],
   "source": [
    "biodata = {\n",
    "    \"firstname\":\"Muhammad Waqas\", \n",
    "    \"lastname\" : \"Kandawala\",\n",
    "    \"age\":\"29\",\n",
    "    \"city\" : \"Karachi\",\n",
    "}\n",
    "print (biodata)"
   ]
  },
  {
   "cell_type": "code",
   "execution_count": 2,
   "metadata": {},
   "outputs": [
    {
     "name": "stdout",
     "output_type": "stream",
     "text": [
      "{'firstname': 'Muhammad Waqas', 'lastname': 'Kandawala', 'age': '29', 'city': 'Karachi', 'qualification': 'Graduate'}\n"
     ]
    }
   ],
   "source": [
    "biodata [\"qualification\"] = \"Graduate\"\n",
    "print (biodata)"
   ]
  },
  {
   "cell_type": "code",
   "execution_count": 3,
   "metadata": {},
   "outputs": [
    {
     "name": "stdout",
     "output_type": "stream",
     "text": [
      "{'firstname': 'Muhammad Waqas', 'lastname': 'Kandawala', 'age': '29', 'city': 'Karachi'}\n"
     ]
    }
   ],
   "source": [
    "del biodata[\"qualification\"]\n",
    "print (biodata)"
   ]
  },
  {
   "cell_type": "code",
   "execution_count": 4,
   "metadata": {},
   "outputs": [
    {
     "name": "stdout",
     "output_type": "stream",
     "text": [
      "{'City': 'Karachi', 'Country': 'Pakistan', 'Population': '25 Million', 'Fact': 'City of Lights.'}\n",
      "{'City': 'Dubai', 'Country': 'U.A.E', 'Population': '7 Million', 'Fact': 'Mini World.'}\n",
      "{'City': 'Makkah', 'Country': 'Saudia Arabia', 'Population': '10 Million', 'Fact': 'Holy Kaaba.'}\n"
     ]
    }
   ],
   "source": [
    "info = {\n",
    "1:{\n",
    "        \"City\":\"Karachi\",\n",
    "        \"Country\":\"Pakistan\",\n",
    "        \"Population\":\"25 Million\",\n",
    "        \"Fact\":\"City of Lights.\",\n",
    "    },\n",
    "2: {\n",
    "        \"City\":\"Dubai\",\n",
    "        \"Country\":\"U.A.E\",\n",
    "        \"Population\":\"7 Million\",\n",
    "        \"Fact\":\"Mini World.\", \n",
    "    },\n",
    "3: {\n",
    "        \"City\":\"Makkah\",\n",
    "        \"Country\":\"Saudia Arabia\",\n",
    "        \"Population\":\"10 Million\",\n",
    "        \"Fact\":\"Holy Kaaba.\",\n",
    "    },\n",
    "}\n",
    "print (info[1])\n",
    "print (info[2])\n",
    "print (info[3])"
   ]
  },
  {
   "cell_type": "code",
   "execution_count": 5,
   "metadata": {},
   "outputs": [
    {
     "name": "stdout",
     "output_type": "stream",
     "text": [
      "What is your age12\n",
      "Your Ticket Price is 15$ !!!\n"
     ]
    }
   ],
   "source": [
    "age = int(input(\"What is your age\"))\n",
    "if age <=3 :\n",
    "    print (\"Your Ticket is Free!!!\")\n",
    "if age >3 and age <=11 :\n",
    "    print (\"Your Ticket Price is 10$ !!!\")\n",
    "if age >=12 :\n",
    "    print (\"Your Ticket Price is 15$ !!!\")"
   ]
  },
  {
   "cell_type": "code",
   "execution_count": 6,
   "metadata": {},
   "outputs": [
    {
     "name": "stdout",
     "output_type": "stream",
     "text": [
      "Alice in Wonderland is one of my favorite books.\n"
     ]
    }
   ],
   "source": [
    "def favorite_book(title):\n",
    "    \"\"\"Display a message about My favorite book.\"\"\"\n",
    "    print(f\"{title} is one of my favorite books.\")\n",
    "\n",
    "favorite_book('Alice in Wonderland')"
   ]
  },
  {
   "cell_type": "code",
   "execution_count": 7,
   "metadata": {},
   "outputs": [
    {
     "name": "stdout",
     "output_type": "stream",
     "text": [
      "Hello! Enter your name?\n",
      "Waqas\n",
      "Well, Waqas, I am thinking of a number between 1 and 30.\n",
      "Take a guess.\n",
      "10\n",
      "Your guess is too low.\n",
      "Take a guess.\n",
      "5\n",
      "Your guess is too low.\n",
      "Take a guess.\n",
      "3\n",
      "Your guess is too low.\n",
      "Take a guess.\n",
      "1\n",
      "Your guess is too low.\n",
      "Take a guess.\n",
      "15\n",
      "Your guess is too low.\n",
      "Take a guess.\n",
      "20\n",
      "Your guess is too high.\n",
      "Nope. The number I was thinking of was 17\n"
     ]
    }
   ],
   "source": [
    "import random\n",
    "\n",
    "guessesTaken = 0\n",
    "\n",
    "print('Hello! Enter your name?')\n",
    "myName = input()\n",
    "\n",
    "number = random.randint(1, 30)\n",
    "print('Well, ' + myName + ', I am thinking of a number between 1 and 30.')\n",
    "\n",
    "while guessesTaken < 6:\n",
    "    print('Take a guess.') # There are four spaces in front of print.\n",
    "    guess = input()\n",
    "    guess = int(guess)\n",
    "    \n",
    "    guessesTaken = guessesTaken + 1\n",
    "    \n",
    "    if guess < number:\n",
    "        print('Your guess is too low.') # There are eight spaces in front of print.\n",
    "        \n",
    "    if guess > number:\n",
    "        print('Your guess is too high.')\n",
    "        \n",
    "    if guess == number:\n",
    "        break\n",
    "        \n",
    "if guess == number:\n",
    "    guessesTaken = str(guessesTaken)\n",
    "    print('Good job, ' + myName + '! You guessed my number in ' + guessesTaken + ' guesses!')\n",
    "    \n",
    "if guess != number:\n",
    "    number = str(number)\n",
    "    print('Nope. The number I was thinking of was ' + number)"
   ]
  },
  {
   "cell_type": "code",
   "execution_count": null,
   "metadata": {},
   "outputs": [],
   "source": []
  }
 ],
 "metadata": {
  "kernelspec": {
   "display_name": "Python 3",
   "language": "python",
   "name": "python3"
  },
  "language_info": {
   "codemirror_mode": {
    "name": "ipython",
    "version": 3
   },
   "file_extension": ".py",
   "mimetype": "text/x-python",
   "name": "python",
   "nbconvert_exporter": "python",
   "pygments_lexer": "ipython3",
   "version": "3.7.4"
  }
 },
 "nbformat": 4,
 "nbformat_minor": 2
}
