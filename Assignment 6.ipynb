{
 "cells": [
  {
   "cell_type": "markdown",
   "metadata": {},
   "source": [
    "Ans1 : Object-oriented programming (OOP) refers to a type of computer programming (software design) in which programmers define not only the data type of a data structure, but also the types of operations (functions) that can be applied to the data structure.\n",
    "Examples: Python, Ruby, Scala, Smalltalk, Eiffel, Emerald, JADE "
   ]
  },
  {
   "cell_type": "markdown",
   "metadata": {},
   "source": [
    "Ans2 : Benefits of OOP are mention below\n",
    "1.It provides a clear modular structure for programs which makes it good for defining abstract datatypes in which implementation details are hidden.\n",
    "2.Objects can also be reused within an across applications. ...\n",
    "3.It makes software easier to maintain. ...\n",
    "4.Reuse also enables faster development."
   ]
  },
  {
   "cell_type": "markdown",
   "metadata": {},
   "source": [
    "Ans3 : A function returns a value, but a procedure does not. A method is similar to a function, but is internal to part of a class. The term method is used almost exclusively in object-oriented programming. A function is something that takes a bunch of inputs and returns one or more values.\n",
    "A method in python is somewhat similar to a function, except it is associated with object/classes. Methods in python are very similar to functions except for two major differences. The method is implicitly used for an object for which it is called. The method is accessible to data that is contained within the class."
   ]
  },
  {
   "cell_type": "markdown",
   "metadata": {},
   "source": [
    "Ans4 : 1.classes are templates. They help you standardize and organize information.\n",
    "2.In object-oriented programming (OOP), objects are the things you think about first in designing a program and they are also the units of code that are eventually derived from the process. ... Each object is an instance of a particular class or subclass with the class's own methods or procedures and data variables.\n",
    "3.an attribute is a specification that defines a property of an object, element, or file. It may also refer to or set the specific value for a given instance of such. For clarity, attributes should more correctly be considered metadata. An attribute is frequently and generally a property of a property.\n",
    "4.The behavior of an object is defined by its methods, which are the functions and subroutines defined within the object class. Without class methods, a class would simply be a structure. Methods determine what type of functionality a class has, how it modifies its data, and its overall behavior."
   ]
  },
  {
   "cell_type": "code",
   "execution_count": 1,
   "metadata": {},
   "outputs": [
    {
     "name": "stdout",
     "output_type": "stream",
     "text": [
      "Toyota\n",
      "2018\n",
      "White\n",
      "4 Seater\n",
      "1800cc\n"
     ]
    }
   ],
   "source": [
    "class Car ():\n",
    "    def __init__(car,name,model,color,seats,horsepower):\n",
    "    \n",
    "        car.name=name\n",
    "        car.model=model\n",
    "        car.color=color\n",
    "        car.seats=seats\n",
    "        car.horsepower=horsepower    \n",
    "        \n",
    "    def updatecolor(car1,newcolor):\n",
    "        car.color=newcolor\n",
    "        \n",
    "car1= Car('Toyota','2018','White','4 Seater', '1800cc')\n",
    "print (car1.name)\n",
    "print (car1.model)\n",
    "print (car1.color)\n",
    "print (car1.seats)\n",
    "print (car1.horsepower)"
   ]
  },
  {
   "cell_type": "code",
   "execution_count": 2,
   "metadata": {},
   "outputs": [
    {
     "name": "stdout",
     "output_type": "stream",
     "text": [
      "Toyota\n",
      "2018\n",
      "White\n",
      "4 Seater\n",
      "1800cc\n",
      "Toyota default car name\n",
      "Mercedes Modify car name\n"
     ]
    }
   ],
   "source": [
    "print (car1.name)\n",
    "print (car1.model)\n",
    "print (car1.color)\n",
    "print (car1.seats)\n",
    "print (car1.horsepower)\n",
    "print (car1.name, 'default car name')\n",
    "car1.name= 'Mercedes'\n",
    "print (car1.name,'Modify car name')"
   ]
  },
  {
   "cell_type": "code",
   "execution_count": 3,
   "metadata": {},
   "outputs": [
    {
     "name": "stdout",
     "output_type": "stream",
     "text": [
      "Black newcolor\n"
     ]
    }
   ],
   "source": [
    "car1.color='Black'\n",
    "print (car1.color, 'newcolor')"
   ]
  },
  {
   "cell_type": "code",
   "execution_count": null,
   "metadata": {},
   "outputs": [],
   "source": []
  }
 ],
 "metadata": {
  "kernelspec": {
   "display_name": "Python 3",
   "language": "python",
   "name": "python3"
  },
  "language_info": {
   "codemirror_mode": {
    "name": "ipython",
    "version": 3
   },
   "file_extension": ".py",
   "mimetype": "text/x-python",
   "name": "python",
   "nbconvert_exporter": "python",
   "pygments_lexer": "ipython3",
   "version": "3.7.4"
  }
 },
 "nbformat": 4,
 "nbformat_minor": 2
}
