{
 "cells": [
  {
   "cell_type": "code",
   "execution_count": 1,
   "metadata": {},
   "outputs": [
    {
     "name": "stdout",
     "output_type": "stream",
     "text": [
      "Enter marks of Accounting: 10\n",
      "Enter marks of Statistics: 30\n",
      "Enter marks of Economics: 40\n",
      "Enter marks of Pak_Studies: 33\n",
      "Enter marks of Islamiat: 90\n",
      "D Grade\n"
     ]
    }
   ],
   "source": [
    "Accounting = int(input(\"Enter marks of Accounting: \")) \n",
    "Statistics = int(input(\"Enter marks of Statistics: \")) \n",
    "Economics = int(input(\"Enter marks of Economics: \")) \n",
    "Pak_Studies = int(input(\"Enter marks of Pak_Studies: \")) \n",
    "Islamiat = int(input(\"Enter marks of Islamiat: \"))\n",
    "\n",
    "Per = (Accounting+Statistics+Economics+Pak_Studies+Islamiat)*100/500\n",
    "\n",
    "if Per>=80: \n",
    "    print (\"A1 Grade\") \n",
    "elif Per >= 70 and Per < 80: \n",
    "    print (\"A Grade\") \n",
    "elif (Per>=60 and Per<70): \n",
    "    print (\"B Grade\") \n",
    "elif (Per>=50 and Per<60): \n",
    "    print (\"C Grade\")\n",
    "elif (Per>40 and Per<50): \n",
    "    print (\"D Grade\") \n",
    "else: \n",
    "    print (\"Fail\")"
   ]
  },
  {
   "cell_type": "code",
   "execution_count": 2,
   "metadata": {},
   "outputs": [
    {
     "name": "stdout",
     "output_type": "stream",
     "text": [
      "Enter Any Number: 45\n",
      "45 is Odd\n"
     ]
    }
   ],
   "source": [
    "Number = int(input(\"Enter Any Number: \"))\n",
    "if (Number / 2) == 0:\n",
    "    print (\"{0} is Even\".format(Number))\n",
    "else:\n",
    "    print (\"{0} is Odd\".format(Number))"
   ]
  },
  {
   "cell_type": "code",
   "execution_count": 3,
   "metadata": {},
   "outputs": [
    {
     "name": "stdout",
     "output_type": "stream",
     "text": [
      "The length of the list:  7\n"
     ]
    }
   ],
   "source": [
    "total = len([1, 2, 3, 4, 5, 6, 7])\n",
    "print (\"The length of the list: \", total)"
   ]
  },
  {
   "cell_type": "code",
   "execution_count": 4,
   "metadata": {},
   "outputs": [
    {
     "name": "stdout",
     "output_type": "stream",
     "text": [
      "840\n"
     ]
    }
   ],
   "source": [
    "Potato = 50 \n",
    "Onion = 40 \n",
    "Tomato = 400\n",
    "Chicken = 350\n",
    "\n",
    "Total_Price = (Potato+Onion+Tomato+Chicken)\n",
    "print (Total_Price)"
   ]
  },
  {
   "cell_type": "code",
   "execution_count": 5,
   "metadata": {},
   "outputs": [
    {
     "name": "stdout",
     "output_type": "stream",
     "text": [
      "The Largest Number is  63\n"
     ]
    }
   ],
   "source": [
    "A = 45\n",
    "B = 63\n",
    "C = 24\n",
    "\n",
    "if (A >= B) and (A >= C):\n",
    "    largest = A\n",
    "elif (B >= A) and (B >= C):\n",
    "    largest = B\n",
    "else:\n",
    "    largest = C\n",
    "\n",
    "print (\"The Largest Number is \", largest)"
   ]
  },
  {
   "cell_type": "code",
   "execution_count": 6,
   "metadata": {},
   "outputs": [
    {
     "name": "stdout",
     "output_type": "stream",
     "text": [
      "The List : (1, 1, 2, 3, 5, 8, 13, 21, 34, 55, 89)\n",
      "The Value Less Than Five : 4\n"
     ]
    }
   ],
   "source": [
    "a = (1, 1, 2, 3, 5, 8, 13, 21, 34, 55, 89)\n",
    "\n",
    "Values=11\n",
    "\n",
    "print (\"The List : \" + str(a))\n",
    "count = sum(i <5 for i in a)\n",
    "print (\"The Value Less Than Five : \" + str(count))"
   ]
  },
  {
   "cell_type": "code",
   "execution_count": null,
   "metadata": {},
   "outputs": [],
   "source": []
  }
 ],
 "metadata": {
  "kernelspec": {
   "display_name": "Python 3",
   "language": "python",
   "name": "python3"
  },
  "language_info": {
   "codemirror_mode": {
    "name": "ipython",
    "version": 3
   },
   "file_extension": ".py",
   "mimetype": "text/x-python",
   "name": "python",
   "nbconvert_exporter": "python",
   "pygments_lexer": "ipython3",
   "version": "3.7.4"
  }
 },
 "nbformat": 4,
 "nbformat_minor": 2
}
