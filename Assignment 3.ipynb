{
 "cells": [
  {
   "cell_type": "code",
   "execution_count": 1,
   "metadata": {},
   "outputs": [
    {
     "name": "stdout",
     "output_type": "stream",
     "text": [
      "\n",
      "Please Select The Operation:\n",
      "+ for addition\n",
      "- for subtraction\n",
      "* for multiplication\n",
      "/ for division\n",
      "** for power\n",
      "+\n",
      "first number: 1\n",
      "second number: 1\n",
      "1 + 1 = \n",
      "2\n",
      "\n",
      "Do you want to calculate again?\n",
      "Please type Y for YES or N for NO.\n",
      "n\n",
      "Thanks for Using Memon Calculator\n"
     ]
    }
   ],
   "source": [
    "def calculate():\n",
    "    operation = input('''\n",
    "Please type in the math operation you would like to complete:\n",
    "+ for addition\n",
    "- for subtraction\n",
    "* for multiplication\n",
    "/ for division\n",
    "** for power\n",
    "''')\n",
    "\n",
    "    number_1 = int(input('Please enter the first number: '))\n",
    "    number_2 = int(input('Please enter the second number: '))\n",
    "\n",
    "    if operation == '+':\n",
    "        print('{} + {} = '.format(number_1, number_2))\n",
    "        print(number_1 + number_2)\n",
    "\n",
    "    elif operation == '-':\n",
    "        print('{} - {} = '.format(number_1, number_2))\n",
    "        print(number_1 - number_2)\n",
    "\n",
    "    elif operation == '*':\n",
    "        print('{} * {} = '.format(number_1, number_2))\n",
    "        print(number_1 * number_2)\n",
    "\n",
    "    elif operation == '/':\n",
    "        print('{} / {} = '.format(number_1, number_2))\n",
    "def calculate():\n",
    "    operation = input('''\n",
    "Please Select The Operation:\n",
    "+ for addition\n",
    "- for subtraction\n",
    "* for multiplication\n",
    "/ for division\n",
    "** for power\n",
    "''')\n",
    "\n",
    "    number_1 = int(input('first number: '))\n",
    "    number_2 = int(input('second number: '))\n",
    "\n",
    "    if operation == '+':\n",
    "        print('{} + {} = '.format(number_1, number_2))\n",
    "        print(number_1 + number_2)\n",
    "\n",
    "    elif operation == '-':\n",
    "        print('{} - {} = '.format(number_1, number_2))\n",
    "        print(number_1 - number_2)\n",
    "\n",
    "    elif operation == '*':\n",
    "        print('{} * {} = '.format(number_1, number_2))\n",
    "        print(number_1 * number_2)\n",
    "\n",
    "    elif operation == '/':\n",
    "        print('{} / {} = '.format(number_1, number_2))\n",
    "        print(number_1 / number_2)\n",
    "        \n",
    "    elif operation == '**':\n",
    "        print('{} ** {} = '.format(number_1, number_2))\n",
    "        print(number_1 ** number_2)\n",
    "\n",
    "    else:\n",
    "        print('Invalid Value, Re-enter Value Again')\n",
    "\n",
    "    again()\n",
    "\n",
    "def again():\n",
    "    calc_again = input('''\n",
    "Do you want to calculate again?\n",
    "Please type Y for YES or N for NO.\n",
    "''')\n",
    "\n",
    "    if calc_again.upper() == 'Y':\n",
    "        calculate()\n",
    "    elif calc_again.upper() == 'N':\n",
    "        print('Thanks for Using Memon Calculator')\n",
    "    else:\n",
    "        again()\n",
    "\n",
    "calculate()"
   ]
  },
  {
   "cell_type": "code",
   "execution_count": 2,
   "metadata": {},
   "outputs": [
    {
     "name": "stdout",
     "output_type": "stream",
     "text": [
      "Original list : ['Rs. 24', 'Rs. 18', 'Rs. 8', 'Rs. 21']\n",
      "The Toys list with Numeric Values : [24, 18, 8, 21]\n"
     ]
    }
   ],
   "source": [
    "Toys_Each = ['Rs. 24', 'Rs. 18', 'Rs. 8', 'Rs. 21'] \n",
    "\n",
    "print(\"Original list : \" + str(Toys_Each)) \n",
    "\n",
    "res = list(map(lambda sub:int(''.join( \n",
    "    [ele for ele in sub if ele.isnumeric()])), Toys_Each)) \n",
    "\n",
    "print(\"The Toys list with Numeric Values : \" + str(res))"
   ]
  },
  {
   "cell_type": "code",
   "execution_count": 3,
   "metadata": {},
   "outputs": [
    {
     "name": "stdout",
     "output_type": "stream",
     "text": [
      "{200, 100}\n",
      "{800, 100, 500, 200, 1000}\n"
     ]
    }
   ],
   "source": [
    "d = {100, 200}\n",
    "print(d)\n",
    "d.update({500, 800, 1000})\n",
    "print(d)"
   ]
  },
  {
   "cell_type": "code",
   "execution_count": 4,
   "metadata": {},
   "outputs": [
    {
     "name": "stdout",
     "output_type": "stream",
     "text": [
      "630\n"
     ]
    }
   ],
   "source": [
    "Slab = {'data1':500,'data2':-104,'data3':234}\n",
    "print(sum(Slab.values()))"
   ]
  },
  {
   "cell_type": "code",
   "execution_count": 5,
   "metadata": {},
   "outputs": [
    {
     "name": "stdout",
     "output_type": "stream",
     "text": [
      "[1, 2, 3]\n"
     ]
    }
   ],
   "source": [
    "from collections import Counter\n",
    "\n",
    "A = [1,2,3,4,5,1,2,3,6,7,8]\n",
    "B =  Counter(A)\n",
    "D = [C for C, E in B.items() if E > 1]\n",
    "print(D)"
   ]
  },
  {
   "cell_type": "code",
   "execution_count": 6,
   "metadata": {},
   "outputs": [
    {
     "name": "stdout",
     "output_type": "stream",
     "text": [
      "Present,  value = 200\n",
      "Not present\n"
     ]
    }
   ],
   "source": [
    "def checkKey(dict, key): \n",
    "    \n",
    "\tif key in dict: \n",
    "\t\tprint(\"Present, \", end =\" \") \n",
    "\t\tprint(\"value =\", dict[key]) \n",
    "\telse: \n",
    "\t\tprint(\"Not present\") \n",
    "\n",
    "dict = {'a': 100, 'b':200, 'c':300} \n",
    "\n",
    "key = 'b'\n",
    "checkKey(dict, key) \n",
    "\n",
    "key = 'w'\n",
    "checkKey(dict, key)"
   ]
  },
  {
   "cell_type": "code",
   "execution_count": null,
   "metadata": {},
   "outputs": [],
   "source": []
  }
 ],
 "metadata": {
  "kernelspec": {
   "display_name": "Python 3",
   "language": "python",
   "name": "python3"
  },
  "language_info": {
   "codemirror_mode": {
    "name": "ipython",
    "version": 3
   },
   "file_extension": ".py",
   "mimetype": "text/x-python",
   "name": "python",
   "nbconvert_exporter": "python",
   "pygments_lexer": "ipython3",
   "version": "3.6.7"
  }
 },
 "nbformat": 4,
 "nbformat_minor": 2
}
